{
 "cells": [
  {
   "cell_type": "markdown",
   "metadata": {},
   "source": [
    "# Assignment 5, Question 6: Data Transformation\n",
    "\n",
    "**Points: 20**\n",
    "\n",
    "Transform and engineer features from the clinical trial dataset."
   ]
  },
  {
   "cell_type": "markdown",
   "metadata": {},
   "source": [
    "## Setup"
   ]
  },
  {
   "cell_type": "code",
   "execution_count": 1,
   "metadata": {
    "execution": {
     "iopub.execute_input": "2025-10-29T10:17:09.832059Z",
     "iopub.status.busy": "2025-10-29T10:17:09.831712Z",
     "iopub.status.idle": "2025-10-29T10:17:10.228558Z",
     "shell.execute_reply": "2025-10-29T10:17:10.228290Z"
    }
   },
   "outputs": [
    {
     "name": "stdout",
     "output_type": "stream",
     "text": [
      "Loaded 10000 patients\n"
     ]
    }
   ],
   "source": [
    "import pandas as pd\n",
    "import numpy as np\n",
    "import matplotlib.pyplot as plt\n",
    "\n",
    "# Import utilities\n",
    "from q3_data_utils import load_data, clean_data, transform_types, create_bins, fill_missing\n",
    "\n",
    "df = load_data('data/clinical_trial_raw.csv')\n",
    "print(f\"Loaded {len(df)} patients\")\n",
    "\n",
    "# Prewritten visualization functions for transformation analysis\n",
    "def plot_distribution(series, title, figsize=(10, 6)):\n",
    "    \"\"\"\n",
    "    Create a histogram of a numeric series.\n",
    "    \n",
    "    Args:\n",
    "        series: pandas Series with numeric data\n",
    "        title: Chart title\n",
    "        figsize: Figure size tuple\n",
    "    \"\"\"\n",
    "    plt.figure(figsize=figsize)\n",
    "    series.hist(bins=30)\n",
    "    plt.title(title)\n",
    "    plt.xlabel('Value')\n",
    "    plt.ylabel('Frequency')\n",
    "    plt.tight_layout()\n",
    "    plt.show()\n",
    "\n",
    "def plot_value_counts(series, title, figsize=(10, 6)):\n",
    "    \"\"\"\n",
    "    Create a bar chart of value counts.\n",
    "    \n",
    "    Args:\n",
    "        series: pandas Series with value counts\n",
    "        title: Chart title\n",
    "        figsize: Figure size tuple\n",
    "    \"\"\"\n",
    "    plt.figure(figsize=figsize)\n",
    "    series.plot(kind='bar')\n",
    "    plt.title(title)\n",
    "    plt.xticks(rotation=45)\n",
    "    plt.tight_layout()\n",
    "    plt.show()"
   ]
  },
  {
   "cell_type": "markdown",
   "metadata": {},
   "source": [
    "## Part 1: Type Conversions (5 points)\n",
    "\n",
    "1. Convert 'enrollment_date' to datetime using the `transform_types()` utility\n",
    "2. Convert categorical columns ('site', 'intervention_group', 'sex') to category dtype\n",
    "3. Ensure all numeric columns are proper numeric types\n",
    "4. Display the updated dtypes"
   ]
  },
  {
   "cell_type": "code",
   "execution_count": 2,
   "metadata": {
    "execution": {
     "iopub.execute_input": "2025-10-29T10:17:10.241869Z",
     "iopub.status.busy": "2025-10-29T10:17:10.241782Z",
     "iopub.status.idle": "2025-10-29T10:17:10.251053Z",
     "shell.execute_reply": "2025-10-29T10:17:10.250850Z"
    }
   },
   "outputs": [
    {
     "data": {
      "text/plain": [
       "patient_id                    object\n",
       "age                            int64\n",
       "sex                         category\n",
       "bmi                          float64\n",
       "enrollment_date       datetime64[ns]\n",
       "systolic_bp                  float64\n",
       "diastolic_bp                 float64\n",
       "cholesterol_total            float64\n",
       "cholesterol_hdl              float64\n",
       "cholesterol_ldl              float64\n",
       "glucose_fasting              float64\n",
       "site                        category\n",
       "intervention_group          category\n",
       "follow_up_months               int64\n",
       "adverse_events                 int64\n",
       "outcome_cvd                   object\n",
       "adherence_pct                float64\n",
       "dropout                       object\n",
       "dtype: object"
      ]
     },
     "metadata": {},
     "output_type": "display_data"
    },
    {
     "name": "stdout",
     "output_type": "stream",
     "text": [
      "['patient_id', 'age', 'sex', 'bmi', 'enrollment_date', 'systolic_bp', 'diastolic_bp', 'cholesterol_total', 'cholesterol_hdl', 'cholesterol_ldl', 'glucose_fasting', 'site', 'intervention_group', 'follow_up_months', 'adverse_events', 'outcome_cvd', 'adherence_pct', 'dropout']\n"
     ]
    }
   ],
   "source": [
    "# TODO: Type conversions\n",
    "df_transform = df.copy()\n",
    "# 1. Use transform_types() to convert enrollment_date to datetime\n",
    "df_transform = transform_types(df_transform, {\"enrollment_date\":\"datetime\"})\n",
    "# 2. Convert categorical columns ('site', 'intervention_group', 'sex') to category dtype\n",
    "df_transform = transform_types(df_transform, {\n",
    "    \"site\":\"category\",\n",
    "    \"intervention_group\":\"category\",\n",
    "    \"sex\":\"category\"\n",
    "})\n",
    "# 3. Ensure all numeric columns are proper numeric types\n",
    "numeric_columns = [\n",
    "    \"age\", \"bmi\", \"systolic_bp\", \"diastolic_bp\",\n",
    "    \"cholesterol_total\", \"cholesterol_hdl\",\n",
    "    \"cholesterol_ldl\", \"glucose_fasting\"\n",
    "]\n",
    "df_transform = transform_types(df_transform, {col: \"numeric\" for col in numeric_columns})\n",
    "# 4. Display the updated dtypes using df.dtypes\n",
    "display(df_transform.dtypes)\n",
    "\n",
    "print(df_transform.columns.tolist())\n"
   ]
  },
  {
   "cell_type": "markdown",
   "metadata": {},
   "source": [
    "## Part 2: Feature Engineering (8 points)\n",
    "\n",
    "Create these new calculated columns:\n",
    "\n",
    "1. `cholesterol_ratio` = cholesterol_ldl / cholesterol_hdl\n",
    "2. `bp_category` = categorize systolic BP:\n",
    "   - 'Normal': < 120\n",
    "   - 'Elevated': 120-129\n",
    "   - 'High': >= 130\n",
    "3. `age_group` using `create_bins()` utility:\n",
    "   - Bins: [0, 40, 55, 70, 100]\n",
    "   - Labels: ['<40', '40-54', '55-69', '70+']\n",
    "4. `bmi_category` using standard BMI categories:\n",
    "   - Underweight: <18.5\n",
    "   - Normal: 18.5-24.9\n",
    "   - Overweight: 25-29.9\n",
    "   - Obese: >=30"
   ]
  },
  {
   "cell_type": "code",
   "execution_count": 3,
   "metadata": {
    "execution": {
     "iopub.execute_input": "2025-10-29T10:17:10.252149Z",
     "iopub.status.busy": "2025-10-29T10:17:10.252090Z",
     "iopub.status.idle": "2025-10-29T10:17:10.253388Z",
     "shell.execute_reply": "2025-10-29T10:17:10.253189Z"
    }
   },
   "outputs": [],
   "source": [
    "# TODO: Calculate cholesterol ratio\n"
   ]
  },
  {
   "cell_type": "code",
   "execution_count": 4,
   "metadata": {
    "execution": {
     "iopub.execute_input": "2025-10-29T10:17:10.254318Z",
     "iopub.status.busy": "2025-10-29T10:17:10.254264Z",
     "iopub.status.idle": "2025-10-29T10:17:10.255490Z",
     "shell.execute_reply": "2025-10-29T10:17:10.255330Z"
    }
   },
   "outputs": [],
   "source": [
    "# TODO: Categorize blood pressure\n"
   ]
  },
  {
   "cell_type": "markdown",
   "metadata": {},
   "source": [
    "**Note:** The `create_bins()` function has an optional `new_column` parameter. If you don't specify it, the new column will be named `{original_column}_binned`. You can use `new_column='age_group'` to give it a custom name.\n"
   ]
  },
  {
   "cell_type": "code",
   "execution_count": 5,
   "metadata": {
    "execution": {
     "iopub.execute_input": "2025-10-29T10:17:10.256546Z",
     "iopub.status.busy": "2025-10-29T10:17:10.256483Z",
     "iopub.status.idle": "2025-10-29T10:17:10.257688Z",
     "shell.execute_reply": "2025-10-29T10:17:10.257514Z"
    }
   },
   "outputs": [],
   "source": [
    "# TODO: Create age groups\n"
   ]
  },
  {
   "cell_type": "code",
   "execution_count": 6,
   "metadata": {
    "execution": {
     "iopub.execute_input": "2025-10-29T10:17:10.258602Z",
     "iopub.status.busy": "2025-10-29T10:17:10.258552Z",
     "iopub.status.idle": "2025-10-29T10:17:10.259781Z",
     "shell.execute_reply": "2025-10-29T10:17:10.259598Z"
    }
   },
   "outputs": [],
   "source": [
    "# TODO: Create BMI categories\n"
   ]
  },
  {
   "cell_type": "markdown",
   "metadata": {},
   "source": [
    "## Part 3: String Cleaning (2 points)\n",
    "\n",
    "If there are any string columns that need cleaning:\n",
    "1. Convert to lowercase\n",
    "2. Strip whitespace\n",
    "3. Replace any placeholder values"
   ]
  },
  {
   "cell_type": "code",
   "execution_count": 7,
   "metadata": {
    "execution": {
     "iopub.execute_input": "2025-10-29T10:17:10.260837Z",
     "iopub.status.busy": "2025-10-29T10:17:10.260789Z",
     "iopub.status.idle": "2025-10-29T10:17:10.262023Z",
     "shell.execute_reply": "2025-10-29T10:17:10.261835Z"
    }
   },
   "outputs": [],
   "source": [
    "# TODO: String cleaning\n"
   ]
  },
  {
   "cell_type": "markdown",
   "metadata": {},
   "source": [
    "## Part 4: One-Hot Encoding (5 points)\n",
    "\n",
    "Create dummy variables for categorical columns:\n",
    "1. One-hot encode 'intervention_group' using `pd.get_dummies()`\n",
    "2. One-hot encode 'site'\n",
    "3. Drop the original categorical columns\n",
    "4. Show the new shape and column names"
   ]
  },
  {
   "cell_type": "code",
   "execution_count": 8,
   "metadata": {
    "execution": {
     "iopub.execute_input": "2025-10-29T10:17:10.263047Z",
     "iopub.status.busy": "2025-10-29T10:17:10.262973Z",
     "iopub.status.idle": "2025-10-29T10:17:10.264340Z",
     "shell.execute_reply": "2025-10-29T10:17:10.264154Z"
    }
   },
   "outputs": [],
   "source": [
    "# TODO: One-hot encoding\n"
   ]
  },
  {
   "cell_type": "markdown",
   "metadata": {},
   "source": [
    "## Part 5: Save Transformed Data\n",
    "\n",
    "Save the fully transformed dataset to `output/q6_transformed_data.csv`"
   ]
  },
  {
   "cell_type": "code",
   "execution_count": 9,
   "metadata": {
    "execution": {
     "iopub.execute_input": "2025-10-29T10:17:10.265399Z",
     "iopub.status.busy": "2025-10-29T10:17:10.265344Z",
     "iopub.status.idle": "2025-10-29T10:17:10.266635Z",
     "shell.execute_reply": "2025-10-29T10:17:10.266452Z"
    }
   },
   "outputs": [],
   "source": [
    "# TODO: Save transformed data\n",
    "# df_transformed.to_csv('output/q6_transformed_data.csv', index=False)\n"
   ]
  }
 ],
 "metadata": {
  "kernelspec": {
   "display_name": "venv",
   "language": "python",
   "name": "python3"
  },
  "language_info": {
   "codemirror_mode": {
    "name": "ipython",
    "version": 3
   },
   "file_extension": ".py",
   "mimetype": "text/x-python",
   "name": "python",
   "nbconvert_exporter": "python",
   "pygments_lexer": "ipython3",
   "version": "3.11.7"
  }
 },
 "nbformat": 4,
 "nbformat_minor": 2
}
